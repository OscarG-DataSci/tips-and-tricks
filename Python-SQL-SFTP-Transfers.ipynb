{
 "cells": [
  {
   "cell_type": "code",
   "execution_count": 1,
   "metadata": {},
   "outputs": [],
   "source": [
    "import time\n",
    "import paramiko\n",
    "import os\n",
    "import pandas as pd\n",
    "import sqlite3\n",
    "# !pip install ipython-sql # for sql magic abilities, i.e. %%sql, etc.\n",
    "import IPython\n",
    "import pyodbc"
   ]
  },
  {
   "cell_type": "code",
   "execution_count": 2,
   "metadata": {},
   "outputs": [
    {
     "name": "stdout",
     "output_type": "stream",
     "text": [
      "Process Start time:      2022-03-08 15:26:59\n"
     ]
    }
   ],
   "source": [
    "# Capture process start time\n",
    "MAIN_START_TIME = time.strftime(\"%Y-%m-%d %H:%M:%S\")\n",
    "\n",
    "print('Process Start time:      ' + MAIN_START_TIME)"
   ]
  },
  {
   "cell_type": "code",
   "execution_count": 3,
   "metadata": {},
   "outputs": [],
   "source": [
    "# Microsoft SQL Server connection\n",
    "conn = pyodbc.connect('Trusted_Connection=yes', driver = '{SQL Server}',\n",
    "                      server = 'localhost', database = 'databaseName')\n",
    "cursor = conn.cursor()"
   ]
  },
  {
   "cell_type": "code",
   "execution_count": null,
   "metadata": {},
   "outputs": [],
   "source": [
    "# Display SQL Server database name if connected\n",
    "cursor.execute(\"SELECT @@SERVERNAME;\")\n",
    "cursor.fetchone()"
   ]
  },
  {
   "cell_type": "code",
   "execution_count": 7,
   "metadata": {},
   "outputs": [
    {
     "name": "stdout",
     "output_type": "stream",
     "text": [
      "SQL Synergy production Student ID data is now in dataframe.\n"
     ]
    }
   ],
   "source": [
    "sql_ids = '''\n",
    "select STUDENT_GU, SIS_NUMBER from databaseName.Rev.EPC_STU\n",
    "'''\n",
    "\n",
    "ids = pd.read_sql(sql_ids,conn)\n",
    "print('SQL Synergy production Student ID data is now in dataframe.')"
   ]
  },
  {
   "cell_type": "code",
   "execution_count": 8,
   "metadata": {},
   "outputs": [
    {
     "name": "stdout",
     "output_type": "stream",
     "text": [
      "SQL Server connection closed...\n"
     ]
    }
   ],
   "source": [
    "# close connection to SQL Server\n",
    "conn.close()\n",
    "print('SQL Server connection closed...')"
   ]
  },
  {
   "cell_type": "code",
   "execution_count": 9,
   "metadata": {},
   "outputs": [],
   "source": [
    "# Site Credentials into dataframe\n",
    "sc = pd.read_csv('D:/BCP/Python/SiteCredentials.txt', engine='python')"
   ]
  },
  {
   "cell_type": "code",
   "execution_count": 10,
   "metadata": {},
   "outputs": [],
   "source": [
    "# define connection parameters and values\n",
    "\n",
    "#.to_string(index=False) removes dataframe metadata to pass value\n",
    "host = \"files.americanreading.com\"\n",
    "port = 22\n",
    "username = sc.username[(sc['RowNum'] == 1)].to_string(index=False)\n",
    "password = sc.password[(sc['RowNum'] == 1)].to_string(index=False)\n",
    "\n",
    "# Running this in Cygwin64 Terminal will add site to known_hosts file (if not present - usually the case on Windows)\n",
    "        # (EXAMPLE) ssh-keyscan -H files.americanreading.com >> /cygdrive/d/BCP/Python/known_hosts\n",
    "known_hosts_dir = \"D:/BCP/Python/known_hosts\""
   ]
  },
  {
   "cell_type": "code",
   "execution_count": 11,
   "metadata": {},
   "outputs": [
    {
     "name": "stdout",
     "output_type": "stream",
     "text": [
      "SSHClient loaded...  <paramiko.client.SSHClient object at 0x0000018E7D608DD8>\n"
     ]
    }
   ],
   "source": [
    "# passing Paramiko's SSHClient capabilities to \"ssh\" alias\n",
    "ssh = paramiko.SSHClient()\n",
    "print(\"SSHClient loaded...  \" + str(ssh))"
   ]
  },
  {
   "cell_type": "code",
   "execution_count": 12,
   "metadata": {},
   "outputs": [
    {
     "name": "stdout",
     "output_type": "stream",
     "text": [
      "known_hosts loaded...\n"
     ]
    }
   ],
   "source": [
    "#load host keys from known_hosts file\n",
    "ssh.load_host_keys(os.path.expanduser(known_hosts_dir))\n",
    "print(\"known_hosts loaded...\")"
   ]
  },
  {
   "cell_type": "code",
   "execution_count": 13,
   "metadata": {
    "scrolled": false
   },
   "outputs": [],
   "source": [
    "# connect to sftp server\n",
    "#ssh.connect(host, port, username, password )\n",
    "#print('...connected to ' + host)\n",
    "\n",
    "ssh.connect(hostname=\"transfers.americanreading.com\", port=22\n",
    "            , username = sc.username[(sc['RowNum'] == 2)].to_string(index=False)\n",
    "            , password = sc.password[(sc['RowNum'] == 2)].to_string(index=False) ) \n",
    "    "
   ]
  },
  {
   "cell_type": "code",
   "execution_count": 14,
   "metadata": {},
   "outputs": [
    {
     "name": "stdout",
     "output_type": "stream",
     "text": [
      "SFTPClient loaded...  <paramiko.sftp_client.SFTPClient object at 0x0000018E7D4676A0>\n"
     ]
    }
   ],
   "source": [
    "# pass SFTP abilities to \"sftp\" alias\n",
    "sftp = ssh.open_sftp()\n",
    "print(\"SFTPClient loaded...  \" + str(sftp))"
   ]
  },
  {
   "cell_type": "code",
   "execution_count": 15,
   "metadata": {},
   "outputs": [
    {
     "name": "stdout",
     "output_type": "stream",
     "text": [
      "Directories:     ['downloads', 'uploads']\n"
     ]
    }
   ],
   "source": [
    "# lists all remote directories\n",
    "listofdirectories = sftp.listdir()\n",
    "print(\"Directories:     \" + str(listofdirectories))"
   ]
  },
  {
   "cell_type": "code",
   "execution_count": 16,
   "metadata": {},
   "outputs": [
    {
     "name": "stdout",
     "output_type": "stream",
     "text": [
      "Most recent available file:       '/downloads/2022-03-07_nati_student-data-export.csv'\n"
     ]
    }
   ],
   "source": [
    "# lists files in specific remote directory\n",
    "maindirectory = '/downloads'\n",
    "\n",
    "# get latest file name, from files matching startswith criteria from the explicit directory\n",
    "latest = 0\n",
    "latestfile = None\n",
    "\n",
    "for fileattr in sftp.listdir_attr(maindirectory):\n",
    "    if fileattr.filename.startswith('20'):# and fileattr.st_mtime > latest: \n",
    " ##commented this out, as files for several days on SFTP have same create time stamp, resulting in first file in series\n",
    "        latest = fileattr.st_mtime\n",
    "        latestfile = fileattr.filename\n",
    "        \n",
    "# Remote path and latest file        \n",
    "pathFileName = '/downloads/'+ latestfile\n",
    "print(\"Most recent available file:       '\"+ pathFileName + \"'\" )"
   ]
  },
  {
   "cell_type": "code",
   "execution_count": 17,
   "metadata": {},
   "outputs": [],
   "source": [
    "# open csv file from sftp server and place its results in \"file\" placeholder\n",
    "file = sftp.open(pathFileName)"
   ]
  },
  {
   "cell_type": "code",
   "execution_count": 18,
   "metadata": {},
   "outputs": [],
   "source": [
    "# place csv file into pandas dataframe\n",
    "df = pd.read_csv(file)"
   ]
  },
  {
   "cell_type": "code",
   "execution_count": 19,
   "metadata": {},
   "outputs": [
    {
     "name": "stdout",
     "output_type": "stream",
     "text": [
      "...connection to files.americanreading.com closed\n"
     ]
    }
   ],
   "source": [
    "# Close SFTP connection\n",
    "ssh.close()\n",
    "print('...connection to ' + host + ' closed')"
   ]
  },
  {
   "cell_type": "code",
   "execution_count": 20,
   "metadata": {},
   "outputs": [],
   "source": [
    "#clean up column names, stripping them of extra spaces\n",
    "df.columns = (df.columns.str.strip().str.replace(' ', '').str.replace('-',''))"
   ]
  },
  {
   "cell_type": "code",
   "execution_count": 21,
   "metadata": {},
   "outputs": [],
   "source": [
    "# create the database connection\n",
    "cnn = sqlite3.connect('arc.db')"
   ]
  },
  {
   "cell_type": "code",
   "execution_count": 22,
   "metadata": {},
   "outputs": [],
   "source": [
    "# load dataframe into database -- if table exists, replace\n",
    "df.to_sql(\"arc\", cnn, if_exists='replace')\n",
    "ids.to_sql(\"ids\", cnn, if_exists='replace')"
   ]
  },
  {
   "cell_type": "code",
   "execution_count": 23,
   "metadata": {},
   "outputs": [],
   "source": [
    "# loal sql module from iPython (Jupyter Notebook code)\n",
    "%load_ext sql\n",
    "\n",
    "## Python file (py) needs this as a defined function to represent this code\n",
    "#load_ext_text = '%load_ext sql'\n",
    "#def load_ext(load_ext_text):\n",
    "#    return load_ext"
   ]
  },
  {
   "cell_type": "code",
   "execution_count": 24,
   "metadata": {},
   "outputs": [],
   "source": [
    "# connect sqlite to database (Jupyter Notebook code)\n",
    "%sql sqlite:///arc.db\n",
    "\n",
    "## Python file (py) needs this as a defined function to represent this code   \n",
    "#connect_to_db_text = '%sql'', ''sqlite:///arc.db'\n",
    "#def connect_to_db(connect_to_db_text):\n",
    "#    return connect_to_db"
   ]
  },
  {
   "cell_type": "code",
   "execution_count": 25,
   "metadata": {},
   "outputs": [],
   "source": [
    "# SQL results into dataframe\n",
    "\n",
    "query = '''\n",
    "WITH RECURSIVE\n",
    "a ( Student_ID, Recorded_At, Scaled_Score, Assessed_Level, Subject_Area, Assessment_Name, School_ID, subscore, [subscore assessed level])\n",
    "as(\n",
    "select StudentID            AS Student_ID\n",
    "  --  ,  strftime('%m/%d/%Y',date(IRLACurrentReportingDate))  AS Recorded_At\n",
    "    ,  IRLACurrentReportingDate AS Recorded_At\n",
    "    ,  IRLAScore            AS Scaled_Score\n",
    "    ,  IRLADataWallTier     AS Assessed_Level\n",
    "    ,  'ARC'                AS Subject_Area\n",
    "    ,  'IRLA'               AS Assessment_Name\n",
    "    ,  SchoolName           AS School_ID\n",
    "    ,  ''                   AS subscore\n",
    "    ,  ''                   AS [subscore assessed level]\n",
    "from arc\n",
    "where IRLAScore <> \"None\" and StudentID <> \"None\" and IRLACurrentReportingDate <> \"None\"\n",
    "\n",
    "union\n",
    "\n",
    "select StudentID            AS Student_ID\n",
    "   -- ,  strftime('%m/%d/%Y',date(ENILCurrentReportingDate))  AS Recorded_At\n",
    "    ,  ENILCurrentReportingDate AS Recorded_At\n",
    "    ,  ENILScore            AS Scaled_Score\n",
    "    ,  ENILDataWallTier     AS Assessed_Level\n",
    "    ,  'ARC'                AS Subject_Area\n",
    "    ,  'ENIL'               AS Assessment_Name\n",
    "    ,  SchoolName           AS School_ID\n",
    "    ,  ''                   AS subscore\n",
    "    ,  ''                   AS [subscore assessed level]\n",
    "from arc\n",
    "where ENILScore <> \"None\" and StudentID <> \"None\" and ENILCurrentReportingDate <> \"None\"\n",
    ")\n",
    "select distinct\n",
    "       b.SIS_NUMBER    AS Student_ID\n",
    "    --,  Recorded_At\n",
    "    ,  strftime('%m/%d/%Y',date(Recorded_At)) AS Recorded_At\n",
    "    ,  Scaled_Score\n",
    "    ,  Assessed_Level\n",
    "    ,  Subject_Area\n",
    "    ,  Assessment_Name\n",
    "    ,  case when School_ID = 'Central Elementary'      then '010' \n",
    "            when School_ID = 'El Toyon Elementary'     then '020'\n",
    "            when School_ID = 'Ira Harbison'            then '030'\n",
    "            when School_ID = 'John A. Otis Elementary' then '085'\n",
    "            when School_ID = 'Kimball'                 then '050'\n",
    "            when School_ID = 'Las Palmas'              then '060'\n",
    "            when School_ID = 'Lincoln Acres'           then '070'\n",
    "            when School_ID = 'Olivewood'               then '080'\n",
    "            when School_ID = 'Palmer Way'              then '090'\n",
    "            when School_ID = 'Rancho de la Nacion'     then '025'\n",
    "       else School_ID end  AS School_ID\n",
    "     , subscore\n",
    "     , [subscore assessed level]\n",
    "     , case when Recorded_At between '2021-07-28' and '2021-08-25' then 'Fall'\n",
    "            when Recorded_At between '2021-10-25' and '2021-10-29' then 'Midfall'\n",
    "            when Recorded_At between '2021-11-29' and '2021-12-17' then 'Winter'\n",
    "            when Recorded_At between '2022-02-28' and '2022-03-04' then 'Midwinter'\n",
    "            when Recorded_At between '2022-04-25' and '2022-05-13' then 'Spring' end as FileName\n",
    "from   a\n",
    "join   ids as b\n",
    "  on   cast(a.Student_ID as varchar) = cast(b.STUDENT_GU as varchar)\n",
    "'''\n",
    "\n",
    "sql_df = pd.read_sql_query(query, cnn)"
   ]
  },
  {
   "cell_type": "code",
   "execution_count": 26,
   "metadata": {},
   "outputs": [],
   "source": [
    "# Dataframe results to csv file\n",
    "sql_df.to_csv(r'D:\\BCP\\Panorama\\ARC\\ARC.csv', index=False ,encoding='utf-8-sig')"
   ]
  },
  {
   "cell_type": "code",
   "execution_count": 27,
   "metadata": {},
   "outputs": [
    {
     "name": "stdout",
     "output_type": "stream",
     "text": [
      "SSHClient loaded...  <paramiko.client.SSHClient object at 0x0000018E7D7D9710>\n",
      "...connected to files.panoramaed.com\n"
     ]
    }
   ],
   "source": [
    "# passing Paramiko's SSHClient capabilities to \"ssh\" alias for new Paramiko instance\n",
    "ssh2 = paramiko.SSHClient()\n",
    "print(\"SSHClient loaded...  \" + str(ssh2))\n",
    "\n",
    "\n",
    "# define connection parameters and values\n",
    "host2 = \"files.panoramaed.com\"\n",
    "port2 = 22\n",
    "username2 = sc.username[(sc['RowNum'] == 2)].to_string(index=False)\n",
    "password2 = sc.password[(sc['RowNum'] == 2)].to_string(index=False)\n",
    "\n",
    "# Running this in Cygwin64 Terminal will add site to known_hosts file (if not present - usually the case on Windows)\n",
    "        # (EXAMPLE) ssh-keyscan -H files.panoramaed.com >> /cygdrive/d/BCP/Python/known_hosts\n",
    "known_hosts_dir2 = \"D:/BCP/Python/known_hosts\"\n",
    "\n",
    "\n",
    "#load host keys from known_hosts file\n",
    "ssh2.load_host_keys(os.path.expanduser(known_hosts_dir2))\n",
    "\n",
    "# connect to sftp server\n",
    "ssh2.connect(hostname=\"files.panoramaed.com\", port=22\n",
    "             , username = sc.username[(sc['RowNum'] == 3)].to_string(index=False)\n",
    "             , password = sc.password[(sc['RowNum'] == 3)].to_string(index=False) )\n",
    "print('...connected to ' + host2)"
   ]
  },
  {
   "cell_type": "code",
   "execution_count": 28,
   "metadata": {},
   "outputs": [],
   "source": [
    "# pass SFTP abilities to \"sftp\" alias\n",
    "sftp2 = ssh2.open_sftp()"
   ]
  },
  {
   "cell_type": "code",
   "execution_count": 29,
   "metadata": {},
   "outputs": [
    {
     "data": {
      "text/plain": [
       "['2019-2020', '2020-2021', 'Sample Files', '2021-2022']"
      ]
     },
     "execution_count": 29,
     "metadata": {},
     "output_type": "execute_result"
    }
   ],
   "source": [
    "# lists all remote directories\n",
    "sftp2.listdir()"
   ]
  },
  {
   "cell_type": "code",
   "execution_count": 30,
   "metadata": {},
   "outputs": [
    {
     "data": {
      "text/plain": [
       "['ARC.csv']"
      ]
     },
     "execution_count": 30,
     "metadata": {},
     "output_type": "execute_result"
    }
   ],
   "source": [
    "# lists files in specific remote directory\n",
    "sftp2.listdir('2020-2021/ARC')"
   ]
  },
  {
   "cell_type": "code",
   "execution_count": 31,
   "metadata": {},
   "outputs": [
    {
     "name": "stdout",
     "output_type": "stream",
     "text": [
      "Remote file path:    '/2021-2022/ARC/Fall.csv'\n",
      "Local file path:     'D:/BCP/Panorama/ARC/Fall.csv'\n",
      "Remote file path:    '/2021-2022/ARC/Midfall.csv'\n",
      "Local file path:     'D:/BCP/Panorama/ARC/Midfall.csv'\n",
      "Remote file path:    '/2021-2022/ARC/Winter.csv'\n",
      "Local file path:     'D:/BCP/Panorama/ARC/Winter.csv'\n",
      "Remote file path:    '/2021-2022/ARC/Midwinter.csv'\n",
      "Local file path:     'D:/BCP/Panorama/ARC/Midwinter.csv'\n",
      "Remote file path:    '/2021-2022/ARC/Spring.csv'\n",
      "Local file path:     'D:/BCP/Panorama/ARC/Spring.csv'\n"
     ]
    }
   ],
   "source": [
    "# set remote and local paths\n",
    "remotepath1 = r\"/2021-2022/ARC/Fall.csv\"\n",
    "print(\"Remote file path:    '\" + remotepath1 + \"'\")\n",
    "localfile1 = r\"D:/BCP/Panorama/ARC/Fall.csv\"\n",
    "print(\"Local file path:     '\" + localfile1 + \"'\")\n",
    "\n",
    "\n",
    "remotepath2 = r\"/2021-2022/ARC/Midfall.csv\"\n",
    "print(\"Remote file path:    '\" + remotepath2 + \"'\")\n",
    "localfile2 = r\"D:/BCP/Panorama/ARC/Midfall.csv\"\n",
    "print(\"Local file path:     '\" + localfile2 + \"'\")\n",
    "\n",
    "\n",
    "remotepath3 = r\"/2021-2022/ARC/Winter.csv\"\n",
    "print(\"Remote file path:    '\" + remotepath3 + \"'\")\n",
    "localfile3 = r\"D:/BCP/Panorama/ARC/Winter.csv\"\n",
    "print(\"Local file path:     '\" + localfile3 + \"'\")\n",
    "\n",
    "\n",
    "remotepath4 = r\"/2021-2022/ARC/Midwinter.csv\"\n",
    "print(\"Remote file path:    '\" + remotepath4 + \"'\")\n",
    "localfile4 = r\"D:/BCP/Panorama/ARC/Midwinter.csv\"\n",
    "print(\"Local file path:     '\" + localfile4 + \"'\")\n",
    "\n",
    "\n",
    "remotepath5 = r\"/2021-2022/ARC/Spring.csv\"\n",
    "print(\"Remote file path:    '\" + remotepath5 + \"'\")\n",
    "localfile5 = r\"D:/BCP/Panorama/ARC/Spring.csv\"\n",
    "print(\"Local file path:     '\" + localfile5 + \"'\")"
   ]
  },
  {
   "cell_type": "code",
   "execution_count": 32,
   "metadata": {},
   "outputs": [
    {
     "name": "stdout",
     "output_type": "stream",
     "text": [
      "...file D:/BCP/Panorama/ARC/Fall.csv uploaded successfully to /2021-2022/ARC/Fall.csv on files.panoramaed.com\n",
      "...file D:/BCP/Panorama/ARC/Midfall.csv uploaded successfully to /2021-2022/ARC/Midfall.csv on files.panoramaed.com\n",
      "...file D:/BCP/Panorama/ARC/Winter.csv uploaded successfully to /2021-2022/ARC/Winter.csv on files.panoramaed.com\n",
      "...file D:/BCP/Panorama/ARC/Midwinter.csv uploaded successfully to /2021-2022/ARC/Midwinter.csv on files.panoramaed.com\n",
      "...file D:/BCP/Panorama/ARC/Spring.csv uploaded successfully to /2021-2022/ARC/Spring.csv on files.panoramaed.com\n"
     ]
    }
   ],
   "source": [
    "# send local file to remote server\n",
    "sftp2.put(localfile1, remotepath1, confirm=True)\n",
    "print('...file ' + localfile1 + ' uploaded successfully to ' + remotepath1 + ' on ' + host2)\n",
    "\n",
    "sftp2.put(localfile2, remotepath2, confirm=True)\n",
    "print('...file ' + localfile2 + ' uploaded successfully to ' + remotepath2 + ' on ' + host2)\n",
    "\n",
    "sftp2.put(localfile3, remotepath3, confirm=True)\n",
    "print('...file ' + localfile3 + ' uploaded successfully to ' + remotepath3 + ' on ' + host2)\n",
    "\n",
    "sftp2.put(localfile4, remotepath4, confirm=True)\n",
    "print('...file ' + localfile4 + ' uploaded successfully to ' + remotepath4 + ' on ' + host2)\n",
    "\n",
    "sftp2.put(localfile5, remotepath5, confirm=True)\n",
    "print('...file ' + localfile5 + ' uploaded successfully to ' + remotepath5 + ' on ' + host2)\n"
   ]
  },
  {
   "cell_type": "code",
   "execution_count": 33,
   "metadata": {},
   "outputs": [
    {
     "name": "stdout",
     "output_type": "stream",
     "text": [
      "...connection to files.americanreading.com closed\n"
     ]
    }
   ],
   "source": [
    "# close client connection and sftp\n",
    "sftp.close()\n",
    "ssh.close()\n",
    "print('...connection to ' + host + ' closed')"
   ]
  },
  {
   "cell_type": "code",
   "execution_count": 34,
   "metadata": {},
   "outputs": [
    {
     "name": "stdout",
     "output_type": "stream",
     "text": [
      "Process Stop time:      2022-03-08 15:27:50\n"
     ]
    }
   ],
   "source": [
    "# Capture process start time\n",
    "MAIN_STOP_TIME = time.strftime(\"%Y-%m-%d %H:%M:%S\")\n",
    "\n",
    "print('Process Stop time:      ' + MAIN_STOP_TIME)"
   ]
  }
 ],
 "metadata": {
  "kernelspec": {
   "display_name": "Python 3",
   "language": "python",
   "name": "python3"
  },
  "language_info": {
   "codemirror_mode": {
    "name": "ipython",
    "version": 3
   },
   "file_extension": ".py",
   "mimetype": "text/x-python",
   "name": "python",
   "nbconvert_exporter": "python",
   "pygments_lexer": "ipython3",
   "version": "3.6.5"
  }
 },
 "nbformat": 4,
 "nbformat_minor": 2
}
